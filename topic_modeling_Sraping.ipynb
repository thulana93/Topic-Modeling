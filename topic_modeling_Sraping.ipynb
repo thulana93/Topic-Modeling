{
 "cells": [
  {
   "cell_type": "code",
   "execution_count": 1,
   "id": "251cebff",
   "metadata": {},
   "outputs": [],
   "source": [
    "import pandas as pd\n",
    "import requests\n",
    "from bs4 import BeautifulSoup"
   ]
  },
  {
   "cell_type": "code",
   "execution_count": 2,
   "id": "38803cf4",
   "metadata": {},
   "outputs": [],
   "source": [
    "df  = pd.read_csv(\"Female_Audience_Articles_filtered.csv\")"
   ]
  },
  {
   "cell_type": "code",
   "execution_count": 3,
   "id": "9849b0ad",
   "metadata": {},
   "outputs": [
    {
     "data": {
      "text/html": [
       "<div>\n",
       "<style scoped>\n",
       "    .dataframe tbody tr th:only-of-type {\n",
       "        vertical-align: middle;\n",
       "    }\n",
       "\n",
       "    .dataframe tbody tr th {\n",
       "        vertical-align: top;\n",
       "    }\n",
       "\n",
       "    .dataframe thead th {\n",
       "        text-align: right;\n",
       "    }\n",
       "</style>\n",
       "<table border=\"1\" class=\"dataframe\">\n",
       "  <thead>\n",
       "    <tr style=\"text-align: right;\">\n",
       "      <th></th>\n",
       "      <th>URL</th>\n",
       "    </tr>\n",
       "  </thead>\n",
       "  <tbody>\n",
       "    <tr>\n",
       "      <th>0</th>\n",
       "      <td>mizzima.com/article/un-and-asean-risk-helping-...</td>\n",
       "    </tr>\n",
       "    <tr>\n",
       "      <th>1</th>\n",
       "      <td>mizzima.com/article/anz-will-become-first-inte...</td>\n",
       "    </tr>\n",
       "    <tr>\n",
       "      <th>2</th>\n",
       "      <td>mizzima.com/article/myanmar-junta-says-electio...</td>\n",
       "    </tr>\n",
       "    <tr>\n",
       "      <th>3</th>\n",
       "      <td>mizzima.com/article/controversial-ngo-letter-s...</td>\n",
       "    </tr>\n",
       "    <tr>\n",
       "      <th>4</th>\n",
       "      <td>mizzima.com/article/independent-myanmar-media-...</td>\n",
       "    </tr>\n",
       "  </tbody>\n",
       "</table>\n",
       "</div>"
      ],
      "text/plain": [
       "                                                 URL\n",
       "0  mizzima.com/article/un-and-asean-risk-helping-...\n",
       "1  mizzima.com/article/anz-will-become-first-inte...\n",
       "2  mizzima.com/article/myanmar-junta-says-electio...\n",
       "3  mizzima.com/article/controversial-ngo-letter-s...\n",
       "4  mizzima.com/article/independent-myanmar-media-..."
      ]
     },
     "execution_count": 3,
     "metadata": {},
     "output_type": "execute_result"
    }
   ],
   "source": [
    "df.head()"
   ]
  },
  {
   "cell_type": "code",
   "execution_count": 4,
   "id": "de0197dd",
   "metadata": {},
   "outputs": [],
   "source": [
    "links_all = ['https://' + row[0] for i, row in df.iterrows()]"
   ]
  },
  {
   "cell_type": "code",
   "execution_count": 5,
   "id": "31a86fd9",
   "metadata": {},
   "outputs": [
    {
     "data": {
      "text/plain": [
       "1405"
      ]
     },
     "execution_count": 5,
     "metadata": {},
     "output_type": "execute_result"
    }
   ],
   "source": [
    "len(links_all)"
   ]
  },
  {
   "cell_type": "code",
   "execution_count": 6,
   "id": "50456b8a",
   "metadata": {},
   "outputs": [],
   "source": [
    "def separate_elements(lst):\n",
    "    separated_dict = {}\n",
    "    for element in lst:\n",
    "        key = element[:20]\n",
    "        if key in separated_dict:\n",
    "            separated_dict[key].append(element)\n",
    "        else:\n",
    "            separated_dict[key] = [element]\n",
    "\n",
    "    return list(separated_dict.values())"
   ]
  },
  {
   "cell_type": "code",
   "execution_count": 7,
   "id": "516dfa58",
   "metadata": {},
   "outputs": [
    {
     "data": {
      "text/plain": [
       "12"
      ]
     },
     "execution_count": 7,
     "metadata": {},
     "output_type": "execute_result"
    }
   ],
   "source": [
    "separated_list = separate_elements(links_all)\n",
    "len(separated_list)"
   ]
  },
  {
   "cell_type": "code",
   "execution_count": 8,
   "id": "56ef6c9a",
   "metadata": {},
   "outputs": [
    {
     "data": {
      "text/plain": [
       "['https://mizzima.com/article/un-and-asean-risk-helping-myanmar-junta-weaponise-aid',\n",
       " 'https://mizzima.com/article/anz-will-become-first-international-bank-withdraw-myanmar',\n",
       " 'https://mizzima.com/article/myanmar-junta-says-election-will-be-held-under-pr-system-no-referendum',\n",
       " 'https://mizzima.com/article/controversial-ngo-letter-sent-myanmar-junta-angers-local-ngos-social-media-users',\n",
       " 'https://mizzima.com/article/independent-myanmar-media-object-fake-news-junta-presentation-regional-dialogue-meet']"
      ]
     },
     "execution_count": 8,
     "metadata": {},
     "output_type": "execute_result"
    }
   ],
   "source": [
    "separated_list[0]"
   ]
  },
  {
   "cell_type": "markdown",
   "id": "f567420c",
   "metadata": {},
   "source": [
    "# Selenium"
   ]
  },
  {
   "cell_type": "code",
   "execution_count": 9,
   "id": "95b2d814",
   "metadata": {},
   "outputs": [],
   "source": [
    "from selenium import webdriver\n",
    "from selenium.webdriver.chrome.service import Service\n",
    "from selenium.webdriver.common.by import By\n",
    "from selenium.webdriver.chrome.options import Options\n",
    "from selenium.webdriver.support.ui import WebDriverWait"
   ]
  },
  {
   "cell_type": "code",
   "execution_count": 10,
   "id": "11388265",
   "metadata": {},
   "outputs": [],
   "source": [
    "# pip install -U deep-translator"
   ]
  },
  {
   "cell_type": "code",
   "execution_count": 11,
   "id": "59d291a0",
   "metadata": {},
   "outputs": [],
   "source": [
    "from deep_translator import GoogleTranslator, MyMemoryTranslator"
   ]
  },
  {
   "cell_type": "code",
   "execution_count": 12,
   "id": "41634580",
   "metadata": {},
   "outputs": [],
   "source": [
    "def scraping(tag, url):\n",
    "    selenium_service = Service('/usr/local/bin')\n",
    "    chrome_options = Options()\n",
    "    #chrome_options.add_argument('--headless')  # Run Chrome in headless mode (without opening browser window)\n",
    "    chrome_options.add_argument('--disable-blink-features=AutomationControlled')  # Run Chrome in headless mode (without opening browser window)\n",
    "    driver = webdriver.Chrome(service=selenium_service, options=chrome_options)\n",
    "    #options.add_argument('--disable-blink-features=AutomationControlled')\n",
    "    \n",
    "    \n",
    "    driver.get(url)\n",
    "    paragraphs = driver.find_elements(By.TAG_NAME, tag)\n",
    "    lst = []\n",
    "    for p in paragraphs:\n",
    "        lst.append(p.text)\n",
    "    para ='\\n'.join(lst)\n",
    "    return para\n",
    "    driver.quit()"
   ]
  },
  {
   "cell_type": "code",
   "execution_count": 33,
   "id": "f8784b82",
   "metadata": {
    "scrolled": true
   },
   "outputs": [],
   "source": [
    "lst = []\n",
    "for i in links_all:\n",
    "    while True:\n",
    "        try:\n",
    "            article = scraping(tag= 'p', url = i)\n",
    "            # article = GoogleTranslator(source='auto', target='en').translate(article)\n",
    "            lst.append(article)\n",
    "            \n",
    "\n",
    "        except:\n",
    "            pass\n",
    "        break"
   ]
  },
  {
   "cell_type": "code",
   "execution_count": 36,
   "id": "4a63ea87",
   "metadata": {},
   "outputs": [
    {
     "data": {
      "text/html": [
       "<div>\n",
       "<style scoped>\n",
       "    .dataframe tbody tr th:only-of-type {\n",
       "        vertical-align: middle;\n",
       "    }\n",
       "\n",
       "    .dataframe tbody tr th {\n",
       "        vertical-align: top;\n",
       "    }\n",
       "\n",
       "    .dataframe thead th {\n",
       "        text-align: right;\n",
       "    }\n",
       "</style>\n",
       "<table border=\"1\" class=\"dataframe\">\n",
       "  <thead>\n",
       "    <tr style=\"text-align: right;\">\n",
       "      <th></th>\n",
       "      <th>0</th>\n",
       "    </tr>\n",
       "  </thead>\n",
       "  <tbody>\n",
       "    <tr>\n",
       "      <th>0</th>\n",
       "      <td>\\nThe UN Office for the Coordination of Humani...</td>\n",
       "    </tr>\n",
       "    <tr>\n",
       "      <th>1</th>\n",
       "      <td>\\nThe Australia and New Zealand Banking Group ...</td>\n",
       "    </tr>\n",
       "    <tr>\n",
       "      <th>2</th>\n",
       "      <td>\\nThe Myanmar Military Council's election comm...</td>\n",
       "    </tr>\n",
       "    <tr>\n",
       "      <th>3</th>\n",
       "      <td>\\nHuman Rights Watch (HRW) Myanmar appeared to...</td>\n",
       "    </tr>\n",
       "    <tr>\n",
       "      <th>4</th>\n",
       "      <td>\\nစစ်ကိုင်းတိုင်း မုံရွာမြို့မှာ အာဏာသိမ်းစစ်ခ...</td>\n",
       "    </tr>\n",
       "  </tbody>\n",
       "</table>\n",
       "</div>"
      ],
      "text/plain": [
       "                                                   0\n",
       "0  \\nThe UN Office for the Coordination of Humani...\n",
       "1  \\nThe Australia and New Zealand Banking Group ...\n",
       "2  \\nThe Myanmar Military Council's election comm...\n",
       "3  \\nHuman Rights Watch (HRW) Myanmar appeared to...\n",
       "4  \\nစစ်ကိုင်းတိုင်း မုံရွာမြို့မှာ အာဏာသိမ်းစစ်ခ..."
      ]
     },
     "execution_count": 36,
     "metadata": {},
     "output_type": "execute_result"
    }
   ],
   "source": [
    "df_2.head()"
   ]
  },
  {
   "cell_type": "code",
   "execution_count": 41,
   "id": "47254cb6",
   "metadata": {},
   "outputs": [
    {
     "data": {
      "text/plain": [
       "'https://mizzima.com/article/un-and-asean-risk-helping-myanmar-junta-weaponise-aid'"
      ]
     },
     "execution_count": 41,
     "metadata": {},
     "output_type": "execute_result"
    }
   ],
   "source": [
    "links_all[0]"
   ]
  },
  {
   "cell_type": "code",
   "execution_count": 46,
   "id": "c51d8090",
   "metadata": {},
   "outputs": [
    {
     "data": {
      "text/plain": [
       "1403"
      ]
     },
     "execution_count": 46,
     "metadata": {},
     "output_type": "execute_result"
    }
   ],
   "source": [
    "#links_all.remove('https://mizzimaburmese.com/misinformation-busters')\n",
    "# links_all.remove('https://burmese.kachinnews.com/category/news/')\n",
    "len(links_all)"
   ]
  },
  {
   "cell_type": "code",
   "execution_count": 49,
   "id": "aba42fa9",
   "metadata": {},
   "outputs": [
    {
     "data": {
      "text/plain": [
       "'https://mizzimaburmese.com/article/128655'"
      ]
     },
     "execution_count": 49,
     "metadata": {},
     "output_type": "execute_result"
    }
   ],
   "source": [
    "links_all[1300]"
   ]
  },
  {
   "cell_type": "code",
   "execution_count": 47,
   "id": "eed8e436",
   "metadata": {},
   "outputs": [
    {
     "data": {
      "text/plain": [
       "(1403, 1403)"
      ]
     },
     "execution_count": 47,
     "metadata": {},
     "output_type": "execute_result"
    }
   ],
   "source": [
    "len(lst), len(links_all)"
   ]
  },
  {
   "cell_type": "code",
   "execution_count": 48,
   "id": "1382fdfc",
   "metadata": {},
   "outputs": [
    {
     "data": {
      "text/plain": [
       "('\\n၁၉၁၂ ခုနှစ်၌ အတ္တလန္တိတ်သမုဒ္ဒရာကို ဖြတ်သန်းချိန်တွင် တိုက်တန်းနစ်သင်္ဘော ရေခဲတောင်နှင့် တိုက်မိချိန်၌ ကြေးနန်းသမားများသည် တစ်စုံတစ်ဦး၊ တစ်နေရာရာမှ ကြားချင်ကြားကောင်းနိုင်သည် မျှော်လင့်ချက်ဖြင့် ဆောက်တည်ရာမရ သောကဖိစီးစွာ ခေါ်ဆိုမှုများ ပြုလုပ်ခဲ့ကြသည်။\\nသို့ရာတွင် ထို ခေါ်ဆိုမှုများကို ပထမဆုံး တုံ့ပြန်မှုများတွင် မိုင်ပေါင်း ၃,၀၀၀ (ကီလိုမီတာ ၄,၈၀၀) ခန့်အကွာ တောင်ပိုင်းဝေလပြည်နယ်မှ အပျော်တမ်း ရေဒီယို အော်ပရေတာတစ်ဦးလည်း ပါဝင်ခဲ့သည်။\\nကိုယ်တိုင်လေ့လာသင်ကြားသူ အာသာမိုးသည် ဆာဖေးလီစီရင်စု၊ ဘလက်ဝုဒ်ရှိ ၎င်း၏ အိမ်တွင်းစတေရှင်မှ တိုက်တန်းနစ်မှ အချက်ပြမှုများကို လက်ခံရရှိခဲ့ခြင်း ဖြစ်သည်။\\n\\n\\n\\nသူသည် ဌာနေရဲစခန်းတစ်ခုသို့ သုတ်ခြေတင် သွားရောက်ကာ အကျိုးအကြောင်း ပြောဆိုခဲ့သော်လည်း မယုံကြည်တာ ခံခဲ့ရသည်။\\nနာမည်ကြီး တိုက်တန်းနစ်၏ ဒီဂျစ်တယ် စကင်ဖတ်ထားသော ကိုယ်ထည်ပြည့် ဗီဒီယိုကို မကြာသေးခင်က ပထမဆုံး ထုတ်ပြန်ခဲ့ပြီး ယင်း ဗီဒီယိုတွင် ပထမဆုံးအဖြစ် တိုက်တန်းနစ်သင်္ဘောကြီးကို ရေမပါဘဲ မြင်တွေ့ရသည်။\\nအပျော်တမ်း ရေဒီယိုသမား အာသာမိုးက တိုက်တန်းနစ်ပေါ်မှ လူများကို မည်သို့မျှ မကူညီနိုင်ခဲ့သော်လည်း ဆိုနာနည်းပညာ၏ အစောပိုင်း ပုံစံကို ရှေ့ပြေးဖော်ဆောင်သူ ဖြစ်ခဲ့သည်။\\nဒေသတွင်း၌ အက်တီဟု သိကြသော အာသာမိုးသည် တိုက်တန်းနစ် မနစ်မြုပ်မီ တစ်နှစ်လောက်က သူ၏ ရေဒီယိုစက်ပစ္စည်းများအတွက် သတင်းစာများတွင် တခုတ်တရ ဖော်ပြခံခဲ့ရသူ ဖြစ်သည်။\\n၁၉၁၁ ခုနှစ်၌ သူသည် အီတလီအစိုးရ၏ လစ်ဗျားအပေါ် စစ်ကြေညာချက်ကို ကြားဖြတ်ဖမ်းယူခဲ့ကြောင်းကို ဗြိတိသျှ Daily Sketch သတင်းစာတွင် ရှေ့ဖုံးမှ သတင်းဖော်ပြခဲ့သည်။\\n၁၈၈၇ ခုနှစ်တွင် မွေးဖွားသော အက်တီနှင့် သူ၏ ညီတို့သည် ဖခင်ထံမှ သီးနှံကြိတ်ခွဲစက်တစ်ခုကို အမွေဆက်ခံပြီး စွန့်ဦးတီထွင်လုပ်ငန်းရှင်များ ဖြစ်ကြသည်။\\n\\nသူတို့ ညီအစ်ကိုက ဂွင်းဒေသတွင်းမှာ အစောဆုံး မော်တော်ကားအချို့ကို ပိုင်ဆိုင်ခဲ့ကြကြောင်း ဘလက်ဝုဒ်၏ သမိုင်းအဖွဲ့အစည်း ဥက္ကဋ္ဌ လင်းပတ်စ်က ပြောသည်။ ညီအစ်ကိုနှစ်ဦးသည် ဒေသလယ်သမားများအတွက် စက်ယန္တရားများကို တီထွင်ခဲ့ကြကြောင်း၊ သူတို့ တီထွင်သည့် ဂျင်နရေတာဖြင့် ကြိတ်ခွဲစက်မှ ရေဒလက်များဖြင့် စွမ်းအင် ထုတ်ယူကာ အားသွင်းဘတ္တရီများမှနေ၍ ဒေသကို ပထမဆုံး လျှပ်စစ်မီး ပေးခဲ့ကြောင်း ၎င်းက ပြောသည်။\\nသို့ရာတွင် အက်တီ၏ အင်ဂျင်နီယာ ပညာရပ်အပေါ် ချစ်မြတ်နိုးမှုသည် စိတ်မကောင်းစရာ ဖြစ်ရပ်မှ ထွက်ပေါ်ခဲ့သည်။ ငယ်ရွယ်စဉ်အချိန်၌ သူသည် စက်ရုံ၌ မတော်တဆဖြစ်ပြီး ခြေတစ်ဖက် ဆုံးရှုံးခဲ့ရခြင်းပင်ဖြစ်သည်။\\nထိုသို့ ခြေတစ်ဖက် မရှိတော့ခြင်းကပင် သူ၏ ပထမဆုံး တီထွင်မှုကို အစပျိုးပေးခဲ့သည်။ သူ၏ စက်ဘီးတွင် ဟန်ချက်ထိန်းစနစ် တီထွင်ပြီး ခြေတစ်ဖက်တည်းဖြင့် စီးနင်းနိုင်အောင် ပြုလုပ်ခဲ့ခြင်း ဖြစ်သည်။\\nကြိတ်ခွဲစက် တွင်ခုံမှ ထုတ်လုပ်သော သူ၏ ရေနွေးငွေ့စက်ခေါင်း စံနမူနာပုံစံသည် မဂ္ဂဇင်းယှဉ်ပြိုင်မှုတွင် ဆုရရှိခဲ့သည်။\\nသူ၏ ဆုမှာ Modern Views of Magnetism and Electricity ဆိုသည့် စာအုပ်ဖြစ်ပြီး ယင်းစာအုပ်ကြောင့်ပင် သူသည် ရေဒီယိုကြေးနန်းဆက်သွယ်မှုကို စိတ်ဝင်စားလာခဲ့သည်။\\nထိုအချိန်က အက်တီပုံစံမှာ တစ်ခါတစ်ရံတွင် ခပ်ကြောင်ကြောင် ဖြစ်နေတတ်ကြောင်း လက်ရှိ လန်ဒန်တွင် နေထိုင်သော်လည်း လန်ထရီဆန့်တွင် နာမည်ရသည့် အပျော်တမ်း ရေဒီယိုဝါဒနာအိုး ဘီလီ ခရော့ဖ်က ပြောသည်။\\n“သူဟာ ကြေးနီကြိုးမျှင်လေးတွေနဲ့ အေရီယာတိုင်တွေ လုပ်တယ်၊ သစ်ပင်တွေနဲ့ တောင်ကုန်းတွေပေါ်ကနေ ကားဂိုထောင်တစ်ခုဆီ သွယ်တန်းထားတယ်”ဟု ခရော့ဖ်က ပြောသည်။\\nထိုအတွက် ရလဒ်အဖြစ် ယခင်က တစ်ဦးတစ်ယောက် ပြုလုပ်ထားသည့် သို့မဟုတ် ယခင်က အတွေးပဲ ဖြစ်နိုင်သည့် ပို၍ ဝေးကွာသော နေရာဆီမှ အချက်ပြမှုကို အက်တီက ဖမ်းယူနိုင်ခဲ့ကြောင်း ၎င်းက ရှင်းပြသည်။\\n“လူတွေက  သူ ဦးနှောက် ချောင်သွားပြီလို့ ထင်ခဲ့ကြတယ်၊ ဒီ ဝါယာကြိုးတွေကနေ အချက်ပြတာတွေကို ဖမ်းယူနိုင်တယ်ဆိုတာဟာ သဘာဝလွန် စိတ်ရောဂါမျိုးလို့ ထင်မှတ်ကြတယ်”ဟု ၎င်းက ဆိုသည်။\\nအက်တီပေါ် ထိုသို့ ထင်မြင်ကြမှုက တိုက်တန်းနစ်ထံမှ အကူအညီ တောင်းခံမှု ရရှိကြောင်း ရဲစခန်းသို့ ၁၉၁၂ ခုနှစ် ဧပြီ ၁၅ ရက် အစောပိုင်း၌ သွားရောက် ပြောဆိုချိန် ထင်သာမြင်သာ ရှိခဲ့သည်။\\n“ကောင်းပါပြီဗျာ” ဟု ရဲများက သူ့ကို လှောင်ပြောင်ခဲ့ကြပြီး “ကျွန်တော်တို့ ကြည့်လုပ်လိုက်ပါမယ်၊  ခင်ဗျားကသာ အခု ကိုယ့်အိပ်ရာပေါ် ပြန်သွားပါ၊ ဒုက္ခခံမနေပါနဲ”ဟု ပြောဆိုခဲ့ကြသည်။\\nသို့ရာတွင် တောင်ပိုင်းဝေလ ပြင်ဘက်၌ အက်တီကို အမှန်တကယ် အလေးအနက် ထားခံရကြောင်း ပတ်စ်က ဆိုသည်။\\n“သိပ်မကြာဘူး၊ သတင်းစာတွေက ဖော်ပြလာတယ်၊ ရဲတွေကို အက်တီ ပြောပြခဲ့တဲ့ အချက်ပြမှု အသေးစိတ်တိုင်းကို အတည်ပြုလာတယ်၊ တိုက်တန်းနစ်ကနေ ပို့တဲ့ SOS အချက်ပြမှုအကြောင်းတွေ ဖော်ပြလာကြတာ ဖြစ်တယ်”ဟု ၎င်းက ပြောသည်။\\nဘလက်ဝုဒ်မှာတော့ ဒီလို ရေဒီယို ဖမ်းယူမှုပညာဟာ မှော်ပညာလို့ ထင်ကောင်း ထင်ကြလိမ့်မယ်၊ ဒါပေမဲ့ ဝါယာလက် ကြေးနန်းစနစ်ဟာ အဲအချိန်ကတော့ အင်တာနက်လိုပါပဲ”ဟု ၎င်းက ဆိုသည်။\\nမကြာမီ၌ အက်တီ၏ အစွမ်းအစကို အရေးပါသူအချို့က သိမှတ်လာကြကြောင်း ပတ်စ်က ပြောသည်။\\nထိုသို့ အသိအမှတ်ပြုသူများတွင် ရေဒီယိုကြေးနန်း တီထွင်သူ ဂလိုင်မို မာကိုနီလည်း ပါဝင်သည်။\\nရေဒီယို အချက်ပြမှုက မိုင် ၂,၀၀၀ အထိ ရောက်ရှိနိုင်ကြောင်း ၎င်းက ကနဦး ခန့်မှန်းခဲ့သော်လည်း အက်တီက မိုင် ၃,၀၀၀ ကျော်အကွာက အချက်ပြမှုကို ရရှိခဲ့ခြင်း ဖြစ်သည်။\\nတစ်နှစ်အတွင်းမှာပင် မာကိုနီသည် အပျော်တမ်း ရေဒီယိုသမား အက်တီကို သူ၏ ကုမ္ပဏီအတွက် စာချုပ်ချုပ်ဆိုခဲ့သည်။\\nမာကိုနီ၏ လက်ထောက်တပည့်အဖြစ် အက်တီသည် ပထမကမ္ဘာစစ်အတွင်း ဗြိတိန်နှင့် ဖောက်ကလန်ကျွန်းများကြား ဆက်သွယ်နိုင်သည့် ပထမဆုံး ဆက်သွယ်ရေးစက်ကို ဒီဇိုင်းထုတ်ခဲ့သည်။\\nဒုတိယကမ္ဘာစစ်အတွင်း၌လည်း သူသည် အသံကို သုံးပြီး လမ်းကြောင်းရှာ၊ အကွာအဝေးတွက်ချက်ကာ ဆက်သွယ်နိုင်သည့် နည်းစနစ်ဖြစ်သော ဆိုနာ၏ အစောဆုံးပုံစံကို တီထွင်ခဲ့သည်။ ထို စနစ်ကြောင့် မြောက်အတ္တလန္တိတ်ရှိ ဂျာမန်သင်္ဘောများ ဝိုင်းရံနေသည့်ကြား မဟာမိတ်သင်္ဘောများကို လမ်းညွှန်နိုင်ခဲ့သည်။\\nအက်တီသည် ၁၉၄၇ ခုနှစ်၌ ဂျာမေကာတွင် အငြိမ်းစားယူခဲ့သော်လည်း မကြာမတင်မှာပင် သွေးကင်ဆာ ဖြစ်ကာ ကုသရန် ဘရစ်စတိုသို့ ပြန်လာခဲ့ပြီး တစ်နှစ်အကြာ၌ ကွယ်လွန်သည်။\\nအက်တီ၏ တိုက်တန်းနစ်မှ အချက်ပြမှုကို ရရှိပြီး ၇၃ နှစ်အကြာ ၁၉၈၅ ခုနှစ်တွင် ၎င်း ရှေ့ဆောင်ခဲ့သော ဆိုနာနည်းပညာဖြင့် အတ္တလန္တိတ်ကြမ်းပြင်၌ နောက်ဆုံး လှဲလျောင်းနေသည့် တိုက်တန်းနစ်ကို ရှာဖွေတွေ့ရှိခဲ့ခြင်း ဖြစ်သည်။\\n(မိုးသဲ ဘာသာပြန်သည်။)\\nhttps://www.bbc.com/news/uk-wales-65398807?at_campaign=Social_Flow&at_ca...\\n\\n\\n\\nTAGS\\n\\nwww.mizzima.com\\nwww.mizzimaburmese.com\\nwww.mizzimaweekly.com\\nmizzima@mizzima.com\\nadsales@mizzima.com\\n+95 1 295398\\n+95 9421010111',\n",
       " 'https://mizzimaburmese.com/article/128655')"
      ]
     },
     "execution_count": 48,
     "metadata": {},
     "output_type": "execute_result"
    }
   ],
   "source": [
    "lst[1300], links_all[1300]"
   ]
  },
  {
   "cell_type": "code",
   "execution_count": 53,
   "id": "fa95ddb0",
   "metadata": {},
   "outputs": [
    {
     "data": {
      "text/html": [
       "<div>\n",
       "<style scoped>\n",
       "    .dataframe tbody tr th:only-of-type {\n",
       "        vertical-align: middle;\n",
       "    }\n",
       "\n",
       "    .dataframe tbody tr th {\n",
       "        vertical-align: top;\n",
       "    }\n",
       "\n",
       "    .dataframe thead th {\n",
       "        text-align: right;\n",
       "    }\n",
       "</style>\n",
       "<table border=\"1\" class=\"dataframe\">\n",
       "  <thead>\n",
       "    <tr style=\"text-align: right;\">\n",
       "      <th></th>\n",
       "      <th>Article</th>\n",
       "      <th>URL</th>\n",
       "    </tr>\n",
       "  </thead>\n",
       "  <tbody>\n",
       "    <tr>\n",
       "      <th>0</th>\n",
       "      <td>\\nThe UN Office for the Coordination of Humani...</td>\n",
       "      <td>https://mizzima.com/article/un-and-asean-risk-...</td>\n",
       "    </tr>\n",
       "    <tr>\n",
       "      <th>1</th>\n",
       "      <td>\\nThe Australia and New Zealand Banking Group ...</td>\n",
       "      <td>https://mizzima.com/article/anz-will-become-fi...</td>\n",
       "    </tr>\n",
       "    <tr>\n",
       "      <th>2</th>\n",
       "      <td>\\nThe Myanmar Military Council's election comm...</td>\n",
       "      <td>https://mizzima.com/article/myanmar-junta-says...</td>\n",
       "    </tr>\n",
       "    <tr>\n",
       "      <th>3</th>\n",
       "      <td>\\nHuman Rights Watch (HRW) Myanmar appeared to...</td>\n",
       "      <td>https://mizzima.com/article/controversial-ngo-...</td>\n",
       "    </tr>\n",
       "    <tr>\n",
       "      <th>4</th>\n",
       "      <td>\\nစစ်ကိုင်းတိုင်း မုံရွာမြို့မှာ အာဏာသိမ်းစစ်ခ...</td>\n",
       "      <td>https://mizzima.com/article/independent-myanma...</td>\n",
       "    </tr>\n",
       "  </tbody>\n",
       "</table>\n",
       "</div>"
      ],
      "text/plain": [
       "                                             Article  \\\n",
       "0  \\nThe UN Office for the Coordination of Humani...   \n",
       "1  \\nThe Australia and New Zealand Banking Group ...   \n",
       "2  \\nThe Myanmar Military Council's election comm...   \n",
       "3  \\nHuman Rights Watch (HRW) Myanmar appeared to...   \n",
       "4  \\nစစ်ကိုင်းတိုင်း မုံရွာမြို့မှာ အာဏာသိမ်းစစ်ခ...   \n",
       "\n",
       "                                                 URL  \n",
       "0  https://mizzima.com/article/un-and-asean-risk-...  \n",
       "1  https://mizzima.com/article/anz-will-become-fi...  \n",
       "2  https://mizzima.com/article/myanmar-junta-says...  \n",
       "3  https://mizzima.com/article/controversial-ngo-...  \n",
       "4  https://mizzima.com/article/independent-myanma...  "
      ]
     },
     "execution_count": 53,
     "metadata": {},
     "output_type": "execute_result"
    }
   ],
   "source": [
    "df_2 = pd.DataFrame({\"Article\":lst, \"URL\" : links_all})\n",
    "df_2.head()"
   ]
  }
 ],
 "metadata": {
  "kernelspec": {
   "display_name": "Python 3 (ipykernel)",
   "language": "python",
   "name": "python3"
  },
  "language_info": {
   "codemirror_mode": {
    "name": "ipython",
    "version": 3
   },
   "file_extension": ".py",
   "mimetype": "text/x-python",
   "name": "python",
   "nbconvert_exporter": "python",
   "pygments_lexer": "ipython3",
   "version": "3.10.9"
  }
 },
 "nbformat": 4,
 "nbformat_minor": 5
}
