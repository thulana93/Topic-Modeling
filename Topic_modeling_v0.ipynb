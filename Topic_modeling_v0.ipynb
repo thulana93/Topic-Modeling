{
 "cells": [
  {
   "cell_type": "code",
   "execution_count": null,
   "id": "2d2b35f5",
   "metadata": {},
   "outputs": [],
   "source": [
    "# pip install pyLDAvis"
   ]
  },
  {
   "cell_type": "markdown",
   "id": "856103c4",
   "metadata": {},
   "source": [
    "https://alvinntnu.github.io/NTNU_ENC2045_LECTURES/nlp/topic-modeling-naive.html"
   ]
  },
  {
   "cell_type": "code",
   "execution_count": 58,
   "id": "93a0c922",
   "metadata": {},
   "outputs": [],
   "source": [
    "import pandas as pd\n",
    "import numpy as np\n",
    "from deep_translator import GoogleTranslator, MyMemoryTranslator\n",
    "import nltk\n",
    "from nltk.tokenize import word_tokenize, sent_tokenize\n",
    "from langdetect import detect\n",
    "import nltk\n",
    "from nltk.tokenize import word_tokenize\n",
    "from nltk.corpus import stopwords\n",
    "from nltk.stem import WordNetLemmatizer\n",
    "from sklearn.feature_extraction.text import TfidfVectorizer\n",
    "from sklearn.feature_extraction.text import CountVectorizer\n",
    "\n",
    "from sklearn.decomposition import LatentDirichletAllocation\n",
    "from sklearn.model_selection import GridSearchCV\n",
    "from sklearn.manifold import TSNE\n",
    "import pyLDAvis\n",
    "\n",
    "import re"
   ]
  },
  {
   "cell_type": "code",
   "execution_count": 18,
   "id": "8a2f98d2",
   "metadata": {},
   "outputs": [],
   "source": [
    "df = pd.read_csv(\"scraped_2.csv\", index_col=False)"
   ]
  },
  {
   "cell_type": "code",
   "execution_count": 19,
   "id": "31eb4b00",
   "metadata": {},
   "outputs": [
    {
     "data": {
      "text/plain": [
       "Index(['Unnamed: 0', 'Article', 'URL'], dtype='object')"
      ]
     },
     "execution_count": 19,
     "metadata": {},
     "output_type": "execute_result"
    }
   ],
   "source": [
    "df.columns"
   ]
  },
  {
   "cell_type": "code",
   "execution_count": 20,
   "id": "138b7ade",
   "metadata": {},
   "outputs": [],
   "source": [
    "df = df.drop(columns=['Unnamed: 0'])"
   ]
  },
  {
   "cell_type": "code",
   "execution_count": 21,
   "id": "ce5c79c4",
   "metadata": {},
   "outputs": [
    {
     "data": {
      "text/html": [
       "<div>\n",
       "<style scoped>\n",
       "    .dataframe tbody tr th:only-of-type {\n",
       "        vertical-align: middle;\n",
       "    }\n",
       "\n",
       "    .dataframe tbody tr th {\n",
       "        vertical-align: top;\n",
       "    }\n",
       "\n",
       "    .dataframe thead th {\n",
       "        text-align: right;\n",
       "    }\n",
       "</style>\n",
       "<table border=\"1\" class=\"dataframe\">\n",
       "  <thead>\n",
       "    <tr style=\"text-align: right;\">\n",
       "      <th></th>\n",
       "      <th>Article</th>\n",
       "      <th>URL</th>\n",
       "    </tr>\n",
       "  </thead>\n",
       "  <tbody>\n",
       "    <tr>\n",
       "      <th>0</th>\n",
       "      <td>\\nThe UN Office for the Coordination of Humani...</td>\n",
       "      <td>https://mizzima.com/article/un-and-asean-risk-...</td>\n",
       "    </tr>\n",
       "    <tr>\n",
       "      <th>1</th>\n",
       "      <td>\\nThe Australia and New Zealand Banking Group ...</td>\n",
       "      <td>https://mizzima.com/article/anz-will-become-fi...</td>\n",
       "    </tr>\n",
       "    <tr>\n",
       "      <th>2</th>\n",
       "      <td>\\nThe Myanmar Military Council's election comm...</td>\n",
       "      <td>https://mizzima.com/article/myanmar-junta-says...</td>\n",
       "    </tr>\n",
       "    <tr>\n",
       "      <th>3</th>\n",
       "      <td>\\nHuman Rights Watch (HRW) Myanmar appeared to...</td>\n",
       "      <td>https://mizzima.com/article/controversial-ngo-...</td>\n",
       "    </tr>\n",
       "    <tr>\n",
       "      <th>4</th>\n",
       "      <td>\\nစစ်ကိုင်းတိုင်း မုံရွာမြို့မှာ အာဏာသိမ်းစစ်ခ...</td>\n",
       "      <td>https://mizzima.com/article/independent-myanma...</td>\n",
       "    </tr>\n",
       "  </tbody>\n",
       "</table>\n",
       "</div>"
      ],
      "text/plain": [
       "                                             Article  \\\n",
       "0  \\nThe UN Office for the Coordination of Humani...   \n",
       "1  \\nThe Australia and New Zealand Banking Group ...   \n",
       "2  \\nThe Myanmar Military Council's election comm...   \n",
       "3  \\nHuman Rights Watch (HRW) Myanmar appeared to...   \n",
       "4  \\nစစ်ကိုင်းတိုင်း မုံရွာမြို့မှာ အာဏာသိမ်းစစ်ခ...   \n",
       "\n",
       "                                                 URL  \n",
       "0  https://mizzima.com/article/un-and-asean-risk-...  \n",
       "1  https://mizzima.com/article/anz-will-become-fi...  \n",
       "2  https://mizzima.com/article/myanmar-junta-says...  \n",
       "3  https://mizzima.com/article/controversial-ngo-...  \n",
       "4  https://mizzima.com/article/independent-myanma...  "
      ]
     },
     "execution_count": 21,
     "metadata": {},
     "output_type": "execute_result"
    }
   ],
   "source": [
    "df.head()"
   ]
  },
  {
   "cell_type": "code",
   "execution_count": 22,
   "id": "0bc2e2de",
   "metadata": {},
   "outputs": [],
   "source": [
    "# pip install langdetect"
   ]
  },
  {
   "cell_type": "code",
   "execution_count": 25,
   "id": "f3f476e7",
   "metadata": {},
   "outputs": [],
   "source": [
    "def translate(text):\n",
    "#     try:\n",
    "#         language = detect(text)\n",
    "#     except:\n",
    "#         language = \"Unknown\"\n",
    "#     if language == 'en':\n",
    "#         trans_sent = text\n",
    "        \n",
    "#     else:  \n",
    "    text = text[:1500]\n",
    "    trans_sent = GoogleTranslator(source='auto', target='en').translate(text)\n",
    "    \n",
    "    return trans_sent"
   ]
  },
  {
   "cell_type": "code",
   "execution_count": 26,
   "id": "8eab5d61",
   "metadata": {},
   "outputs": [],
   "source": [
    "df['Article_trans'] = df['Article'].apply(lambda x: translate(x))"
   ]
  },
  {
   "cell_type": "code",
   "execution_count": 27,
   "id": "1caec8e5",
   "metadata": {},
   "outputs": [
    {
     "data": {
      "text/html": [
       "<div>\n",
       "<style scoped>\n",
       "    .dataframe tbody tr th:only-of-type {\n",
       "        vertical-align: middle;\n",
       "    }\n",
       "\n",
       "    .dataframe tbody tr th {\n",
       "        vertical-align: top;\n",
       "    }\n",
       "\n",
       "    .dataframe thead th {\n",
       "        text-align: right;\n",
       "    }\n",
       "</style>\n",
       "<table border=\"1\" class=\"dataframe\">\n",
       "  <thead>\n",
       "    <tr style=\"text-align: right;\">\n",
       "      <th></th>\n",
       "      <th>Article</th>\n",
       "      <th>URL</th>\n",
       "      <th>Article_trans</th>\n",
       "    </tr>\n",
       "  </thead>\n",
       "  <tbody>\n",
       "    <tr>\n",
       "      <th>0</th>\n",
       "      <td>\\nThe UN Office for the Coordination of Humani...</td>\n",
       "      <td>https://mizzima.com/article/un-and-asean-risk-...</td>\n",
       "      <td>The UN Office for the Coordination of Humanita...</td>\n",
       "    </tr>\n",
       "    <tr>\n",
       "      <th>1</th>\n",
       "      <td>\\nThe Australia and New Zealand Banking Group ...</td>\n",
       "      <td>https://mizzima.com/article/anz-will-become-fi...</td>\n",
       "      <td>The Australia and New Zealand Banking Group Li...</td>\n",
       "    </tr>\n",
       "    <tr>\n",
       "      <th>2</th>\n",
       "      <td>\\nThe Myanmar Military Council's election comm...</td>\n",
       "      <td>https://mizzima.com/article/myanmar-junta-says...</td>\n",
       "      <td>The Myanmar Military Council's election commis...</td>\n",
       "    </tr>\n",
       "    <tr>\n",
       "      <th>3</th>\n",
       "      <td>\\nHuman Rights Watch (HRW) Myanmar appeared to...</td>\n",
       "      <td>https://mizzima.com/article/controversial-ngo-...</td>\n",
       "      <td>Human Rights Watch (HRW) Myanmar appeared to b...</td>\n",
       "    </tr>\n",
       "    <tr>\n",
       "      <th>4</th>\n",
       "      <td>\\nစစ်ကိုင်းတိုင်း မုံရွာမြို့မှာ အာဏာသိမ်းစစ်ခ...</td>\n",
       "      <td>https://mizzima.com/article/independent-myanma...</td>\n",
       "      <td>In Monywa, Sagaing Province, the car was attac...</td>\n",
       "    </tr>\n",
       "  </tbody>\n",
       "</table>\n",
       "</div>"
      ],
      "text/plain": [
       "                                             Article  \\\n",
       "0  \\nThe UN Office for the Coordination of Humani...   \n",
       "1  \\nThe Australia and New Zealand Banking Group ...   \n",
       "2  \\nThe Myanmar Military Council's election comm...   \n",
       "3  \\nHuman Rights Watch (HRW) Myanmar appeared to...   \n",
       "4  \\nစစ်ကိုင်းတိုင်း မုံရွာမြို့မှာ အာဏာသိမ်းစစ်ခ...   \n",
       "\n",
       "                                                 URL  \\\n",
       "0  https://mizzima.com/article/un-and-asean-risk-...   \n",
       "1  https://mizzima.com/article/anz-will-become-fi...   \n",
       "2  https://mizzima.com/article/myanmar-junta-says...   \n",
       "3  https://mizzima.com/article/controversial-ngo-...   \n",
       "4  https://mizzima.com/article/independent-myanma...   \n",
       "\n",
       "                                       Article_trans  \n",
       "0  The UN Office for the Coordination of Humanita...  \n",
       "1  The Australia and New Zealand Banking Group Li...  \n",
       "2  The Myanmar Military Council's election commis...  \n",
       "3  Human Rights Watch (HRW) Myanmar appeared to b...  \n",
       "4  In Monywa, Sagaing Province, the car was attac...  "
      ]
     },
     "execution_count": 27,
     "metadata": {},
     "output_type": "execute_result"
    }
   ],
   "source": [
    "df.head()"
   ]
  },
  {
   "cell_type": "code",
   "execution_count": 28,
   "id": "21854c92",
   "metadata": {},
   "outputs": [
    {
     "data": {
      "text/plain": [
       "'In Monywa, Sagaing Province, the car was attacked by a mine because it was the car of the coup leader Min Aung Hlaing, but it was the car carrying the police chief, and 4 deputy police chiefs were killed.\\n \\nCopyright © 2023 All rights reserved by'"
      ]
     },
     "execution_count": 28,
     "metadata": {},
     "output_type": "execute_result"
    }
   ],
   "source": [
    "df.iloc[4,2]"
   ]
  },
  {
   "cell_type": "code",
   "execution_count": 30,
   "id": "eb2db00c",
   "metadata": {},
   "outputs": [],
   "source": [
    "# df.to_csv('scraped_4_translated.csv')"
   ]
  },
  {
   "cell_type": "markdown",
   "id": "0bb344b4",
   "metadata": {},
   "source": [
    "# Data Preprocessing"
   ]
  },
  {
   "cell_type": "code",
   "execution_count": 31,
   "id": "a8746338",
   "metadata": {},
   "outputs": [],
   "source": [
    "# Lowercasing\n",
    "df['Article_lower'] = df['Article_trans'].apply(lambda x: x.lower())"
   ]
  },
  {
   "cell_type": "code",
   "execution_count": 32,
   "id": "f8ee0b04",
   "metadata": {},
   "outputs": [
    {
     "data": {
      "text/html": [
       "<div>\n",
       "<style scoped>\n",
       "    .dataframe tbody tr th:only-of-type {\n",
       "        vertical-align: middle;\n",
       "    }\n",
       "\n",
       "    .dataframe tbody tr th {\n",
       "        vertical-align: top;\n",
       "    }\n",
       "\n",
       "    .dataframe thead th {\n",
       "        text-align: right;\n",
       "    }\n",
       "</style>\n",
       "<table border=\"1\" class=\"dataframe\">\n",
       "  <thead>\n",
       "    <tr style=\"text-align: right;\">\n",
       "      <th></th>\n",
       "      <th>Article</th>\n",
       "      <th>URL</th>\n",
       "      <th>Article_trans</th>\n",
       "      <th>Article_lower</th>\n",
       "    </tr>\n",
       "  </thead>\n",
       "  <tbody>\n",
       "    <tr>\n",
       "      <th>0</th>\n",
       "      <td>\\nThe UN Office for the Coordination of Humani...</td>\n",
       "      <td>https://mizzima.com/article/un-and-asean-risk-...</td>\n",
       "      <td>The UN Office for the Coordination of Humanita...</td>\n",
       "      <td>the un office for the coordination of humanita...</td>\n",
       "    </tr>\n",
       "    <tr>\n",
       "      <th>1</th>\n",
       "      <td>\\nThe Australia and New Zealand Banking Group ...</td>\n",
       "      <td>https://mizzima.com/article/anz-will-become-fi...</td>\n",
       "      <td>The Australia and New Zealand Banking Group Li...</td>\n",
       "      <td>the australia and new zealand banking group li...</td>\n",
       "    </tr>\n",
       "    <tr>\n",
       "      <th>2</th>\n",
       "      <td>\\nThe Myanmar Military Council's election comm...</td>\n",
       "      <td>https://mizzima.com/article/myanmar-junta-says...</td>\n",
       "      <td>The Myanmar Military Council's election commis...</td>\n",
       "      <td>the myanmar military council's election commis...</td>\n",
       "    </tr>\n",
       "    <tr>\n",
       "      <th>3</th>\n",
       "      <td>\\nHuman Rights Watch (HRW) Myanmar appeared to...</td>\n",
       "      <td>https://mizzima.com/article/controversial-ngo-...</td>\n",
       "      <td>Human Rights Watch (HRW) Myanmar appeared to b...</td>\n",
       "      <td>human rights watch (hrw) myanmar appeared to b...</td>\n",
       "    </tr>\n",
       "    <tr>\n",
       "      <th>4</th>\n",
       "      <td>\\nစစ်ကိုင်းတိုင်း မုံရွာမြို့မှာ အာဏာသိမ်းစစ်ခ...</td>\n",
       "      <td>https://mizzima.com/article/independent-myanma...</td>\n",
       "      <td>In Monywa, Sagaing Province, the car was attac...</td>\n",
       "      <td>in monywa, sagaing province, the car was attac...</td>\n",
       "    </tr>\n",
       "  </tbody>\n",
       "</table>\n",
       "</div>"
      ],
      "text/plain": [
       "                                             Article  \\\n",
       "0  \\nThe UN Office for the Coordination of Humani...   \n",
       "1  \\nThe Australia and New Zealand Banking Group ...   \n",
       "2  \\nThe Myanmar Military Council's election comm...   \n",
       "3  \\nHuman Rights Watch (HRW) Myanmar appeared to...   \n",
       "4  \\nစစ်ကိုင်းတိုင်း မုံရွာမြို့မှာ အာဏာသိမ်းစစ်ခ...   \n",
       "\n",
       "                                                 URL  \\\n",
       "0  https://mizzima.com/article/un-and-asean-risk-...   \n",
       "1  https://mizzima.com/article/anz-will-become-fi...   \n",
       "2  https://mizzima.com/article/myanmar-junta-says...   \n",
       "3  https://mizzima.com/article/controversial-ngo-...   \n",
       "4  https://mizzima.com/article/independent-myanma...   \n",
       "\n",
       "                                       Article_trans  \\\n",
       "0  The UN Office for the Coordination of Humanita...   \n",
       "1  The Australia and New Zealand Banking Group Li...   \n",
       "2  The Myanmar Military Council's election commis...   \n",
       "3  Human Rights Watch (HRW) Myanmar appeared to b...   \n",
       "4  In Monywa, Sagaing Province, the car was attac...   \n",
       "\n",
       "                                       Article_lower  \n",
       "0  the un office for the coordination of humanita...  \n",
       "1  the australia and new zealand banking group li...  \n",
       "2  the myanmar military council's election commis...  \n",
       "3  human rights watch (hrw) myanmar appeared to b...  \n",
       "4  in monywa, sagaing province, the car was attac...  "
      ]
     },
     "execution_count": 32,
     "metadata": {},
     "output_type": "execute_result"
    }
   ],
   "source": [
    "df.head()"
   ]
  },
  {
   "cell_type": "code",
   "execution_count": 33,
   "id": "bf8f516a",
   "metadata": {},
   "outputs": [],
   "source": [
    "# Tokenizing\n",
    "df['Article_tokenized'] = df['Article_lower'].apply(lambda x: word_tokenize(x))"
   ]
  },
  {
   "cell_type": "code",
   "execution_count": 34,
   "id": "56da7f3c",
   "metadata": {},
   "outputs": [
    {
     "data": {
      "text/html": [
       "<div>\n",
       "<style scoped>\n",
       "    .dataframe tbody tr th:only-of-type {\n",
       "        vertical-align: middle;\n",
       "    }\n",
       "\n",
       "    .dataframe tbody tr th {\n",
       "        vertical-align: top;\n",
       "    }\n",
       "\n",
       "    .dataframe thead th {\n",
       "        text-align: right;\n",
       "    }\n",
       "</style>\n",
       "<table border=\"1\" class=\"dataframe\">\n",
       "  <thead>\n",
       "    <tr style=\"text-align: right;\">\n",
       "      <th></th>\n",
       "      <th>Article</th>\n",
       "      <th>URL</th>\n",
       "      <th>Article_trans</th>\n",
       "      <th>Article_lower</th>\n",
       "      <th>Article_tokenized</th>\n",
       "    </tr>\n",
       "  </thead>\n",
       "  <tbody>\n",
       "    <tr>\n",
       "      <th>0</th>\n",
       "      <td>\\nThe UN Office for the Coordination of Humani...</td>\n",
       "      <td>https://mizzima.com/article/un-and-asean-risk-...</td>\n",
       "      <td>The UN Office for the Coordination of Humanita...</td>\n",
       "      <td>the un office for the coordination of humanita...</td>\n",
       "      <td>[the, un, office, for, the, coordination, of, ...</td>\n",
       "    </tr>\n",
       "    <tr>\n",
       "      <th>1</th>\n",
       "      <td>\\nThe Australia and New Zealand Banking Group ...</td>\n",
       "      <td>https://mizzima.com/article/anz-will-become-fi...</td>\n",
       "      <td>The Australia and New Zealand Banking Group Li...</td>\n",
       "      <td>the australia and new zealand banking group li...</td>\n",
       "      <td>[the, australia, and, new, zealand, banking, g...</td>\n",
       "    </tr>\n",
       "    <tr>\n",
       "      <th>2</th>\n",
       "      <td>\\nThe Myanmar Military Council's election comm...</td>\n",
       "      <td>https://mizzima.com/article/myanmar-junta-says...</td>\n",
       "      <td>The Myanmar Military Council's election commis...</td>\n",
       "      <td>the myanmar military council's election commis...</td>\n",
       "      <td>[the, myanmar, military, council, 's, election...</td>\n",
       "    </tr>\n",
       "    <tr>\n",
       "      <th>3</th>\n",
       "      <td>\\nHuman Rights Watch (HRW) Myanmar appeared to...</td>\n",
       "      <td>https://mizzima.com/article/controversial-ngo-...</td>\n",
       "      <td>Human Rights Watch (HRW) Myanmar appeared to b...</td>\n",
       "      <td>human rights watch (hrw) myanmar appeared to b...</td>\n",
       "      <td>[human, rights, watch, (, hrw, ), myanmar, app...</td>\n",
       "    </tr>\n",
       "    <tr>\n",
       "      <th>4</th>\n",
       "      <td>\\nစစ်ကိုင်းတိုင်း မုံရွာမြို့မှာ အာဏာသိမ်းစစ်ခ...</td>\n",
       "      <td>https://mizzima.com/article/independent-myanma...</td>\n",
       "      <td>In Monywa, Sagaing Province, the car was attac...</td>\n",
       "      <td>in monywa, sagaing province, the car was attac...</td>\n",
       "      <td>[in, monywa, ,, sagaing, province, ,, the, car...</td>\n",
       "    </tr>\n",
       "  </tbody>\n",
       "</table>\n",
       "</div>"
      ],
      "text/plain": [
       "                                             Article  \\\n",
       "0  \\nThe UN Office for the Coordination of Humani...   \n",
       "1  \\nThe Australia and New Zealand Banking Group ...   \n",
       "2  \\nThe Myanmar Military Council's election comm...   \n",
       "3  \\nHuman Rights Watch (HRW) Myanmar appeared to...   \n",
       "4  \\nစစ်ကိုင်းတိုင်း မုံရွာမြို့မှာ အာဏာသိမ်းစစ်ခ...   \n",
       "\n",
       "                                                 URL  \\\n",
       "0  https://mizzima.com/article/un-and-asean-risk-...   \n",
       "1  https://mizzima.com/article/anz-will-become-fi...   \n",
       "2  https://mizzima.com/article/myanmar-junta-says...   \n",
       "3  https://mizzima.com/article/controversial-ngo-...   \n",
       "4  https://mizzima.com/article/independent-myanma...   \n",
       "\n",
       "                                       Article_trans  \\\n",
       "0  The UN Office for the Coordination of Humanita...   \n",
       "1  The Australia and New Zealand Banking Group Li...   \n",
       "2  The Myanmar Military Council's election commis...   \n",
       "3  Human Rights Watch (HRW) Myanmar appeared to b...   \n",
       "4  In Monywa, Sagaing Province, the car was attac...   \n",
       "\n",
       "                                       Article_lower  \\\n",
       "0  the un office for the coordination of humanita...   \n",
       "1  the australia and new zealand banking group li...   \n",
       "2  the myanmar military council's election commis...   \n",
       "3  human rights watch (hrw) myanmar appeared to b...   \n",
       "4  in monywa, sagaing province, the car was attac...   \n",
       "\n",
       "                                   Article_tokenized  \n",
       "0  [the, un, office, for, the, coordination, of, ...  \n",
       "1  [the, australia, and, new, zealand, banking, g...  \n",
       "2  [the, myanmar, military, council, 's, election...  \n",
       "3  [human, rights, watch, (, hrw, ), myanmar, app...  \n",
       "4  [in, monywa, ,, sagaing, province, ,, the, car...  "
      ]
     },
     "execution_count": 34,
     "metadata": {},
     "output_type": "execute_result"
    }
   ],
   "source": [
    "df.head()"
   ]
  },
  {
   "cell_type": "code",
   "execution_count": 36,
   "id": "f4627265",
   "metadata": {},
   "outputs": [],
   "source": [
    "# Stopwords removal\n",
    "stop_words_own = [\"due\",\"june\",\"people\",\"hours\",\"three\", \"wednesday\", \"group\",\"moe\",\"pdfs\",\"day\",\"now\", \"long\",\"issued\",\"year\",\n",
    "       \"dont\",\"daw\",\"nug\",\"san\",\"including\",\"kyi\",\"crn\",\"nld\",\"told\",\"first\",\n",
    "       \"suu\",\"february\",\"well\",\"years\", \"coup\",\"said\",\"days\",\"two\",\"will\",\"also\",\"new\",\"min\",\"since\",\"nug\",\n",
    "       \"“\",\"daw\",\"even\",\"”\", \"wwwmizzimacomwwwmizzimaburmesecomwwwmizzimaweeklycom\",\"email protectedemail protected\",\"special\",\n",
    "       \"kia\", \"fight\",\"army\",\"forces\",\"curfew\",\"shot\", \"war\",\"burned\",\"police\",\"camp\", \"fire\",\"militia\",\"attack\",\n",
    "       \"van\",\"around\",\"back\", \"behind\",\"hall\",\"one\",\"saw\",\"opened\", \"bin\",\"swe\",\"went\",\"side\",\"less\",\n",
    "       \"come\",\"copyright\",\"reserved\", \"october\",\"–\",\"today\",\"ppdb\",\"doesnt\", \"made\",\"get\",\"use\",\"take\",\n",
    "       \"ready\",\"still\", \"see\",\"via\",\"visit\",\"dpd\",\"pkb\", \"’s\",\"four\",\"least\",\"last\",\"former\",\"can\",\"five\",\"”\",\"six\",\n",
    "       \"high\", \"–\",\"near\",\"top\",\"set\", \"many\", \"email protectedemail protected\", \"voa\",\"like\",\"march\",\"photos\",\n",
    "       \"hour\", \"time\",\"amp\",\"show\",\"every\",\"main\",\"things\"]\n",
    "def stop_words_rm(word_tokens):\n",
    "    stop_words = stopwords.words('english') + stop_words_own\n",
    "    filtered_sentence = []\n",
    "    for w in word_tokens:\n",
    "        if w not in stop_words:\n",
    "            filtered_sentence.append(w)\n",
    "    return filtered_sentence"
   ]
  },
  {
   "cell_type": "code",
   "execution_count": 37,
   "id": "8620a11b",
   "metadata": {},
   "outputs": [],
   "source": [
    "df['Article_stop_wd_rm'] = df['Article_tokenized'].apply(lambda x: stop_words_rm(x))"
   ]
  },
  {
   "cell_type": "code",
   "execution_count": 38,
   "id": "d1af59f3",
   "metadata": {},
   "outputs": [
    {
     "data": {
      "text/html": [
       "<div>\n",
       "<style scoped>\n",
       "    .dataframe tbody tr th:only-of-type {\n",
       "        vertical-align: middle;\n",
       "    }\n",
       "\n",
       "    .dataframe tbody tr th {\n",
       "        vertical-align: top;\n",
       "    }\n",
       "\n",
       "    .dataframe thead th {\n",
       "        text-align: right;\n",
       "    }\n",
       "</style>\n",
       "<table border=\"1\" class=\"dataframe\">\n",
       "  <thead>\n",
       "    <tr style=\"text-align: right;\">\n",
       "      <th></th>\n",
       "      <th>Article</th>\n",
       "      <th>URL</th>\n",
       "      <th>Article_trans</th>\n",
       "      <th>Article_lower</th>\n",
       "      <th>Article_tokenized</th>\n",
       "      <th>Article_stop_wd_rm</th>\n",
       "    </tr>\n",
       "  </thead>\n",
       "  <tbody>\n",
       "    <tr>\n",
       "      <th>0</th>\n",
       "      <td>\\nThe UN Office for the Coordination of Humani...</td>\n",
       "      <td>https://mizzima.com/article/un-and-asean-risk-...</td>\n",
       "      <td>The UN Office for the Coordination of Humanita...</td>\n",
       "      <td>the un office for the coordination of humanita...</td>\n",
       "      <td>[the, un, office, for, the, coordination, of, ...</td>\n",
       "      <td>[un, office, coordination, humanitarian, affai...</td>\n",
       "    </tr>\n",
       "    <tr>\n",
       "      <th>1</th>\n",
       "      <td>\\nThe Australia and New Zealand Banking Group ...</td>\n",
       "      <td>https://mizzima.com/article/anz-will-become-fi...</td>\n",
       "      <td>The Australia and New Zealand Banking Group Li...</td>\n",
       "      <td>the australia and new zealand banking group li...</td>\n",
       "      <td>[the, australia, and, new, zealand, banking, g...</td>\n",
       "      <td>[australia, zealand, banking, limited, (, anz,...</td>\n",
       "    </tr>\n",
       "    <tr>\n",
       "      <th>2</th>\n",
       "      <td>\\nThe Myanmar Military Council's election comm...</td>\n",
       "      <td>https://mizzima.com/article/myanmar-junta-says...</td>\n",
       "      <td>The Myanmar Military Council's election commis...</td>\n",
       "      <td>the myanmar military council's election commis...</td>\n",
       "      <td>[the, myanmar, military, council, 's, election...</td>\n",
       "      <td>[myanmar, military, council, 's, election, com...</td>\n",
       "    </tr>\n",
       "    <tr>\n",
       "      <th>3</th>\n",
       "      <td>\\nHuman Rights Watch (HRW) Myanmar appeared to...</td>\n",
       "      <td>https://mizzima.com/article/controversial-ngo-...</td>\n",
       "      <td>Human Rights Watch (HRW) Myanmar appeared to b...</td>\n",
       "      <td>human rights watch (hrw) myanmar appeared to b...</td>\n",
       "      <td>[human, rights, watch, (, hrw, ), myanmar, app...</td>\n",
       "      <td>[human, rights, watch, (, hrw, ), myanmar, app...</td>\n",
       "    </tr>\n",
       "    <tr>\n",
       "      <th>4</th>\n",
       "      <td>\\nစစ်ကိုင်းတိုင်း မုံရွာမြို့မှာ အာဏာသိမ်းစစ်ခ...</td>\n",
       "      <td>https://mizzima.com/article/independent-myanma...</td>\n",
       "      <td>In Monywa, Sagaing Province, the car was attac...</td>\n",
       "      <td>in monywa, sagaing province, the car was attac...</td>\n",
       "      <td>[in, monywa, ,, sagaing, province, ,, the, car...</td>\n",
       "      <td>[monywa, ,, sagaing, province, ,, car, attacke...</td>\n",
       "    </tr>\n",
       "  </tbody>\n",
       "</table>\n",
       "</div>"
      ],
      "text/plain": [
       "                                             Article  \\\n",
       "0  \\nThe UN Office for the Coordination of Humani...   \n",
       "1  \\nThe Australia and New Zealand Banking Group ...   \n",
       "2  \\nThe Myanmar Military Council's election comm...   \n",
       "3  \\nHuman Rights Watch (HRW) Myanmar appeared to...   \n",
       "4  \\nစစ်ကိုင်းတိုင်း မုံရွာမြို့မှာ အာဏာသိမ်းစစ်ခ...   \n",
       "\n",
       "                                                 URL  \\\n",
       "0  https://mizzima.com/article/un-and-asean-risk-...   \n",
       "1  https://mizzima.com/article/anz-will-become-fi...   \n",
       "2  https://mizzima.com/article/myanmar-junta-says...   \n",
       "3  https://mizzima.com/article/controversial-ngo-...   \n",
       "4  https://mizzima.com/article/independent-myanma...   \n",
       "\n",
       "                                       Article_trans  \\\n",
       "0  The UN Office for the Coordination of Humanita...   \n",
       "1  The Australia and New Zealand Banking Group Li...   \n",
       "2  The Myanmar Military Council's election commis...   \n",
       "3  Human Rights Watch (HRW) Myanmar appeared to b...   \n",
       "4  In Monywa, Sagaing Province, the car was attac...   \n",
       "\n",
       "                                       Article_lower  \\\n",
       "0  the un office for the coordination of humanita...   \n",
       "1  the australia and new zealand banking group li...   \n",
       "2  the myanmar military council's election commis...   \n",
       "3  human rights watch (hrw) myanmar appeared to b...   \n",
       "4  in monywa, sagaing province, the car was attac...   \n",
       "\n",
       "                                   Article_tokenized  \\\n",
       "0  [the, un, office, for, the, coordination, of, ...   \n",
       "1  [the, australia, and, new, zealand, banking, g...   \n",
       "2  [the, myanmar, military, council, 's, election...   \n",
       "3  [human, rights, watch, (, hrw, ), myanmar, app...   \n",
       "4  [in, monywa, ,, sagaing, province, ,, the, car...   \n",
       "\n",
       "                                  Article_stop_wd_rm  \n",
       "0  [un, office, coordination, humanitarian, affai...  \n",
       "1  [australia, zealand, banking, limited, (, anz,...  \n",
       "2  [myanmar, military, council, 's, election, com...  \n",
       "3  [human, rights, watch, (, hrw, ), myanmar, app...  \n",
       "4  [monywa, ,, sagaing, province, ,, car, attacke...  "
      ]
     },
     "execution_count": 38,
     "metadata": {},
     "output_type": "execute_result"
    }
   ],
   "source": [
    "df.head()"
   ]
  },
  {
   "cell_type": "code",
   "execution_count": 39,
   "id": "f4badb4e",
   "metadata": {},
   "outputs": [],
   "source": [
    "# Lematizing\n",
    "def lem(stwd_rm_lst):\n",
    "    lem_sent = []\n",
    "    wnl = WordNetLemmatizer()\n",
    "    for word in stwd_rm_lst:\n",
    "        word = wnl.lemmatize(word, pos=\"n\")\n",
    "        lem_sent.append(word) \n",
    "    return lem_sent"
   ]
  },
  {
   "cell_type": "code",
   "execution_count": 40,
   "id": "16799b69",
   "metadata": {},
   "outputs": [],
   "source": [
    "df['lem_article'] = df['Article_stop_wd_rm'].apply(lambda x: lem(x))"
   ]
  },
  {
   "cell_type": "code",
   "execution_count": 41,
   "id": "7a509e21",
   "metadata": {},
   "outputs": [
    {
     "data": {
      "text/html": [
       "<div>\n",
       "<style scoped>\n",
       "    .dataframe tbody tr th:only-of-type {\n",
       "        vertical-align: middle;\n",
       "    }\n",
       "\n",
       "    .dataframe tbody tr th {\n",
       "        vertical-align: top;\n",
       "    }\n",
       "\n",
       "    .dataframe thead th {\n",
       "        text-align: right;\n",
       "    }\n",
       "</style>\n",
       "<table border=\"1\" class=\"dataframe\">\n",
       "  <thead>\n",
       "    <tr style=\"text-align: right;\">\n",
       "      <th></th>\n",
       "      <th>Article</th>\n",
       "      <th>URL</th>\n",
       "      <th>Article_trans</th>\n",
       "      <th>Article_lower</th>\n",
       "      <th>Article_tokenized</th>\n",
       "      <th>Article_stop_wd_rm</th>\n",
       "      <th>lem_article</th>\n",
       "    </tr>\n",
       "  </thead>\n",
       "  <tbody>\n",
       "    <tr>\n",
       "      <th>0</th>\n",
       "      <td>\\nThe UN Office for the Coordination of Humani...</td>\n",
       "      <td>https://mizzima.com/article/un-and-asean-risk-...</td>\n",
       "      <td>The UN Office for the Coordination of Humanita...</td>\n",
       "      <td>the un office for the coordination of humanita...</td>\n",
       "      <td>[the, un, office, for, the, coordination, of, ...</td>\n",
       "      <td>[un, office, coordination, humanitarian, affai...</td>\n",
       "      <td>[un, office, coordination, humanitarian, affai...</td>\n",
       "    </tr>\n",
       "    <tr>\n",
       "      <th>1</th>\n",
       "      <td>\\nThe Australia and New Zealand Banking Group ...</td>\n",
       "      <td>https://mizzima.com/article/anz-will-become-fi...</td>\n",
       "      <td>The Australia and New Zealand Banking Group Li...</td>\n",
       "      <td>the australia and new zealand banking group li...</td>\n",
       "      <td>[the, australia, and, new, zealand, banking, g...</td>\n",
       "      <td>[australia, zealand, banking, limited, (, anz,...</td>\n",
       "      <td>[australia, zealand, banking, limited, (, anz,...</td>\n",
       "    </tr>\n",
       "    <tr>\n",
       "      <th>2</th>\n",
       "      <td>\\nThe Myanmar Military Council's election comm...</td>\n",
       "      <td>https://mizzima.com/article/myanmar-junta-says...</td>\n",
       "      <td>The Myanmar Military Council's election commis...</td>\n",
       "      <td>the myanmar military council's election commis...</td>\n",
       "      <td>[the, myanmar, military, council, 's, election...</td>\n",
       "      <td>[myanmar, military, council, 's, election, com...</td>\n",
       "      <td>[myanmar, military, council, 's, election, com...</td>\n",
       "    </tr>\n",
       "    <tr>\n",
       "      <th>3</th>\n",
       "      <td>\\nHuman Rights Watch (HRW) Myanmar appeared to...</td>\n",
       "      <td>https://mizzima.com/article/controversial-ngo-...</td>\n",
       "      <td>Human Rights Watch (HRW) Myanmar appeared to b...</td>\n",
       "      <td>human rights watch (hrw) myanmar appeared to b...</td>\n",
       "      <td>[human, rights, watch, (, hrw, ), myanmar, app...</td>\n",
       "      <td>[human, rights, watch, (, hrw, ), myanmar, app...</td>\n",
       "      <td>[human, right, watch, (, hrw, ), myanmar, appe...</td>\n",
       "    </tr>\n",
       "    <tr>\n",
       "      <th>4</th>\n",
       "      <td>\\nစစ်ကိုင်းတိုင်း မုံရွာမြို့မှာ အာဏာသိမ်းစစ်ခ...</td>\n",
       "      <td>https://mizzima.com/article/independent-myanma...</td>\n",
       "      <td>In Monywa, Sagaing Province, the car was attac...</td>\n",
       "      <td>in monywa, sagaing province, the car was attac...</td>\n",
       "      <td>[in, monywa, ,, sagaing, province, ,, the, car...</td>\n",
       "      <td>[monywa, ,, sagaing, province, ,, car, attacke...</td>\n",
       "      <td>[monywa, ,, sagaing, province, ,, car, attacke...</td>\n",
       "    </tr>\n",
       "  </tbody>\n",
       "</table>\n",
       "</div>"
      ],
      "text/plain": [
       "                                             Article  \\\n",
       "0  \\nThe UN Office for the Coordination of Humani...   \n",
       "1  \\nThe Australia and New Zealand Banking Group ...   \n",
       "2  \\nThe Myanmar Military Council's election comm...   \n",
       "3  \\nHuman Rights Watch (HRW) Myanmar appeared to...   \n",
       "4  \\nစစ်ကိုင်းတိုင်း မုံရွာမြို့မှာ အာဏာသိမ်းစစ်ခ...   \n",
       "\n",
       "                                                 URL  \\\n",
       "0  https://mizzima.com/article/un-and-asean-risk-...   \n",
       "1  https://mizzima.com/article/anz-will-become-fi...   \n",
       "2  https://mizzima.com/article/myanmar-junta-says...   \n",
       "3  https://mizzima.com/article/controversial-ngo-...   \n",
       "4  https://mizzima.com/article/independent-myanma...   \n",
       "\n",
       "                                       Article_trans  \\\n",
       "0  The UN Office for the Coordination of Humanita...   \n",
       "1  The Australia and New Zealand Banking Group Li...   \n",
       "2  The Myanmar Military Council's election commis...   \n",
       "3  Human Rights Watch (HRW) Myanmar appeared to b...   \n",
       "4  In Monywa, Sagaing Province, the car was attac...   \n",
       "\n",
       "                                       Article_lower  \\\n",
       "0  the un office for the coordination of humanita...   \n",
       "1  the australia and new zealand banking group li...   \n",
       "2  the myanmar military council's election commis...   \n",
       "3  human rights watch (hrw) myanmar appeared to b...   \n",
       "4  in monywa, sagaing province, the car was attac...   \n",
       "\n",
       "                                   Article_tokenized  \\\n",
       "0  [the, un, office, for, the, coordination, of, ...   \n",
       "1  [the, australia, and, new, zealand, banking, g...   \n",
       "2  [the, myanmar, military, council, 's, election...   \n",
       "3  [human, rights, watch, (, hrw, ), myanmar, app...   \n",
       "4  [in, monywa, ,, sagaing, province, ,, the, car...   \n",
       "\n",
       "                                  Article_stop_wd_rm  \\\n",
       "0  [un, office, coordination, humanitarian, affai...   \n",
       "1  [australia, zealand, banking, limited, (, anz,...   \n",
       "2  [myanmar, military, council, 's, election, com...   \n",
       "3  [human, rights, watch, (, hrw, ), myanmar, app...   \n",
       "4  [monywa, ,, sagaing, province, ,, car, attacke...   \n",
       "\n",
       "                                         lem_article  \n",
       "0  [un, office, coordination, humanitarian, affai...  \n",
       "1  [australia, zealand, banking, limited, (, anz,...  \n",
       "2  [myanmar, military, council, 's, election, com...  \n",
       "3  [human, right, watch, (, hrw, ), myanmar, appe...  \n",
       "4  [monywa, ,, sagaing, province, ,, car, attacke...  "
      ]
     },
     "execution_count": 41,
     "metadata": {},
     "output_type": "execute_result"
    }
   ],
   "source": [
    "df.head()"
   ]
  },
  {
   "cell_type": "code",
   "execution_count": 42,
   "id": "2a83153d",
   "metadata": {},
   "outputs": [],
   "source": [
    "df['lem_article_join'] = df['lem_article'].apply(lambda x: ' '.join(x))"
   ]
  },
  {
   "cell_type": "code",
   "execution_count": 43,
   "id": "fe055ebf",
   "metadata": {},
   "outputs": [],
   "source": [
    "df['lem_article_join'] = df['lem_article_join'].str.replace(r'\\d+', '', regex=True)"
   ]
  },
  {
   "cell_type": "markdown",
   "id": "cb2fd3e0",
   "metadata": {},
   "source": [
    "# Feature Extraction"
   ]
  },
  {
   "cell_type": "code",
   "execution_count": 63,
   "id": "9beafae9",
   "metadata": {},
   "outputs": [
    {
     "data": {
      "text/plain": [
       "<1403x14076 sparse matrix of type '<class 'numpy.int64'>'\n",
       "\twith 114251 stored elements in Compressed Sparse Row format>"
      ]
     },
     "execution_count": 63,
     "metadata": {},
     "output_type": "execute_result"
    }
   ],
   "source": [
    "# v = TfidfVectorizer()\n",
    "# x = v.fit_transform(df['lem_article_join'])\n",
    "# vec = x.toarray()\n",
    "\n",
    "cv = CountVectorizer(min_df=0., max_df=1., stop_words='english')\n",
    "cv_matrix = cv.fit_transform(df['lem_article_join'])\n",
    "cv_matrix"
   ]
  },
  {
   "cell_type": "code",
   "execution_count": 64,
   "id": "a16f10ca",
   "metadata": {},
   "outputs": [
    {
     "data": {
      "text/plain": [
       "array([[0, 0, 0, ..., 0, 0, 0],\n",
       "       [0, 0, 0, ..., 0, 0, 0],\n",
       "       [0, 0, 0, ..., 0, 0, 0],\n",
       "       ...,\n",
       "       [0, 0, 0, ..., 0, 0, 0],\n",
       "       [0, 0, 0, ..., 0, 0, 0],\n",
       "       [0, 0, 0, ..., 0, 0, 0]])"
      ]
     },
     "execution_count": 64,
     "metadata": {},
     "output_type": "execute_result"
    }
   ],
   "source": [
    "cv_matrix = cv_matrix.toarray()\n",
    "cv_matrix"
   ]
  },
  {
   "cell_type": "code",
   "execution_count": 68,
   "id": "8ceae315",
   "metadata": {},
   "outputs": [],
   "source": [
    "vocab = cv.get_feature_names_out()"
   ]
  },
  {
   "cell_type": "markdown",
   "id": "d4a98e36",
   "metadata": {},
   "source": [
    "# Latent Dirichlet Allocation"
   ]
  },
  {
   "cell_type": "code",
   "execution_count": 49,
   "id": "60177880",
   "metadata": {},
   "outputs": [],
   "source": [
    "lda = LatentDirichletAllocation(n_components=2, max_iter=10000, random_state=0)\n",
    "doc_topic_matrix = lda.fit_transform(cv_matrix)"
   ]
  },
  {
   "cell_type": "code",
   "execution_count": 53,
   "id": "d95a6457",
   "metadata": {},
   "outputs": [
    {
     "name": "stdout",
     "output_type": "stream",
     "text": [
      "-1296968.0345390039\n",
      "2666.889538368324\n"
     ]
    }
   ],
   "source": [
    "# log-likelihood\n",
    "print(lda.score(cv_matrix))\n",
    "# perplexity\n",
    "print(lda.perplexity(cv_matrix))"
   ]
  },
  {
   "cell_type": "code",
   "execution_count": 54,
   "id": "766516bb",
   "metadata": {},
   "outputs": [
    {
     "data": {
      "text/html": [
       "<div>\n",
       "<style scoped>\n",
       "    .dataframe tbody tr th:only-of-type {\n",
       "        vertical-align: middle;\n",
       "    }\n",
       "\n",
       "    .dataframe tbody tr th {\n",
       "        vertical-align: top;\n",
       "    }\n",
       "\n",
       "    .dataframe thead th {\n",
       "        text-align: right;\n",
       "    }\n",
       "</style>\n",
       "<table border=\"1\" class=\"dataframe\">\n",
       "  <thead>\n",
       "    <tr style=\"text-align: right;\">\n",
       "      <th></th>\n",
       "      <th>T1</th>\n",
       "      <th>T2</th>\n",
       "    </tr>\n",
       "  </thead>\n",
       "  <tbody>\n",
       "    <tr>\n",
       "      <th>0</th>\n",
       "      <td>0.994770</td>\n",
       "      <td>0.005230</td>\n",
       "    </tr>\n",
       "    <tr>\n",
       "      <th>1</th>\n",
       "      <td>0.994716</td>\n",
       "      <td>0.005284</td>\n",
       "    </tr>\n",
       "    <tr>\n",
       "      <th>2</th>\n",
       "      <td>0.994682</td>\n",
       "      <td>0.005318</td>\n",
       "    </tr>\n",
       "    <tr>\n",
       "      <th>3</th>\n",
       "      <td>0.994977</td>\n",
       "      <td>0.005023</td>\n",
       "    </tr>\n",
       "    <tr>\n",
       "      <th>4</th>\n",
       "      <td>0.968204</td>\n",
       "      <td>0.031796</td>\n",
       "    </tr>\n",
       "    <tr>\n",
       "      <th>...</th>\n",
       "      <td>...</td>\n",
       "      <td>...</td>\n",
       "    </tr>\n",
       "    <tr>\n",
       "      <th>1398</th>\n",
       "      <td>0.991948</td>\n",
       "      <td>0.008052</td>\n",
       "    </tr>\n",
       "    <tr>\n",
       "      <th>1399</th>\n",
       "      <td>0.994258</td>\n",
       "      <td>0.005742</td>\n",
       "    </tr>\n",
       "    <tr>\n",
       "      <th>1400</th>\n",
       "      <td>0.970411</td>\n",
       "      <td>0.029589</td>\n",
       "    </tr>\n",
       "    <tr>\n",
       "      <th>1401</th>\n",
       "      <td>0.993420</td>\n",
       "      <td>0.006580</td>\n",
       "    </tr>\n",
       "    <tr>\n",
       "      <th>1402</th>\n",
       "      <td>0.309671</td>\n",
       "      <td>0.690329</td>\n",
       "    </tr>\n",
       "  </tbody>\n",
       "</table>\n",
       "<p>1403 rows × 2 columns</p>\n",
       "</div>"
      ],
      "text/plain": [
       "            T1        T2\n",
       "0     0.994770  0.005230\n",
       "1     0.994716  0.005284\n",
       "2     0.994682  0.005318\n",
       "3     0.994977  0.005023\n",
       "4     0.968204  0.031796\n",
       "...        ...       ...\n",
       "1398  0.991948  0.008052\n",
       "1399  0.994258  0.005742\n",
       "1400  0.970411  0.029589\n",
       "1401  0.993420  0.006580\n",
       "1402  0.309671  0.690329\n",
       "\n",
       "[1403 rows x 2 columns]"
      ]
     },
     "execution_count": 54,
     "metadata": {},
     "output_type": "execute_result"
    }
   ],
   "source": [
    "# Document-by-Topic Matrix\n",
    "doc_topic_df = pd.DataFrame(doc_topic_matrix, columns=['T1', 'T2'])\n",
    "doc_topic_df"
   ]
  },
  {
   "cell_type": "code",
   "execution_count": 55,
   "id": "b0440916",
   "metadata": {},
   "outputs": [],
   "source": [
    "# Topic-by-Word Matrix\n",
    "topic_word_matrix = lda.components_"
   ]
  },
  {
   "cell_type": "code",
   "execution_count": 69,
   "id": "6e6b8178",
   "metadata": {},
   "outputs": [
    {
     "data": {
      "text/html": [
       "<div>\n",
       "<style scoped>\n",
       "    .dataframe tbody tr th:only-of-type {\n",
       "        vertical-align: middle;\n",
       "    }\n",
       "\n",
       "    .dataframe tbody tr th {\n",
       "        vertical-align: top;\n",
       "    }\n",
       "\n",
       "    .dataframe thead th {\n",
       "        text-align: right;\n",
       "    }\n",
       "</style>\n",
       "<table border=\"1\" class=\"dataframe\">\n",
       "  <thead>\n",
       "    <tr style=\"text-align: right;\">\n",
       "      <th></th>\n",
       "      <th>0</th>\n",
       "      <th>1</th>\n",
       "    </tr>\n",
       "  </thead>\n",
       "  <tbody>\n",
       "    <tr>\n",
       "      <th>_ym</th>\n",
       "      <td>1.488563</td>\n",
       "      <td>0.511437</td>\n",
       "    </tr>\n",
       "    <tr>\n",
       "      <th>aa</th>\n",
       "      <td>113.978220</td>\n",
       "      <td>2.021780</td>\n",
       "    </tr>\n",
       "    <tr>\n",
       "      <th>aacc</th>\n",
       "      <td>4.499701</td>\n",
       "      <td>0.500299</td>\n",
       "    </tr>\n",
       "    <tr>\n",
       "      <th>aapp</th>\n",
       "      <td>2.499194</td>\n",
       "      <td>0.500806</td>\n",
       "    </tr>\n",
       "    <tr>\n",
       "      <th>ab</th>\n",
       "      <td>0.500235</td>\n",
       "      <td>12.499765</td>\n",
       "    </tr>\n",
       "    <tr>\n",
       "      <th>...</th>\n",
       "      <td>...</td>\n",
       "      <td>...</td>\n",
       "    </tr>\n",
       "    <tr>\n",
       "      <th>zuna</th>\n",
       "      <td>2.499523</td>\n",
       "      <td>0.500477</td>\n",
       "    </tr>\n",
       "    <tr>\n",
       "      <th>zwa</th>\n",
       "      <td>2.499637</td>\n",
       "      <td>0.500363</td>\n",
       "    </tr>\n",
       "    <tr>\n",
       "      <th>zwekabin</th>\n",
       "      <td>1.499668</td>\n",
       "      <td>0.500332</td>\n",
       "    </tr>\n",
       "    <tr>\n",
       "      <th>zyun</th>\n",
       "      <td>1.499467</td>\n",
       "      <td>0.500533</td>\n",
       "    </tr>\n",
       "    <tr>\n",
       "      <th>état</th>\n",
       "      <td>48.496694</td>\n",
       "      <td>0.503306</td>\n",
       "    </tr>\n",
       "  </tbody>\n",
       "</table>\n",
       "<p>14076 rows × 2 columns</p>\n",
       "</div>"
      ],
      "text/plain": [
       "                   0          1\n",
       "_ym         1.488563   0.511437\n",
       "aa        113.978220   2.021780\n",
       "aacc        4.499701   0.500299\n",
       "aapp        2.499194   0.500806\n",
       "ab          0.500235  12.499765\n",
       "...              ...        ...\n",
       "zuna        2.499523   0.500477\n",
       "zwa         2.499637   0.500363\n",
       "zwekabin    1.499668   0.500332\n",
       "zyun        1.499467   0.500533\n",
       "état       48.496694   0.503306\n",
       "\n",
       "[14076 rows x 2 columns]"
      ]
     },
     "execution_count": 69,
     "metadata": {},
     "output_type": "execute_result"
    }
   ],
   "source": [
    "pd.DataFrame(topic_word_matrix, columns=vocab)\n",
    "pd.DataFrame(np.transpose(topic_word_matrix), index=vocab)"
   ]
  },
  {
   "cell_type": "code",
   "execution_count": 101,
   "id": "dbb3eaed",
   "metadata": {},
   "outputs": [],
   "source": [
    "def get_topics_meanings(tw_m,\n",
    "                        vocab,\n",
    "                        display_weights=False,\n",
    "                        topn = 5,\n",
    "                        weight_cutoff=0.6):\n",
    "    topic_list = []\n",
    "    for i, topic_weights in enumerate(tw_m):  ## for each topic row\n",
    "        topic = [(token, np.round(weight, 2))\n",
    "                 for token, weight in zip(vocab, topic_weights)\n",
    "                 ]  ## zip (word, importance_weight)\n",
    "        topic = sorted(topic,\n",
    "                       key=lambda x: -x[1])  ## rank words according to weights\n",
    "        topic_topn = topic[:topn]\n",
    "        topic_topn = [word for word, weight in topic_topn]\n",
    "        topic_list.append(topic_topn)\n",
    "    return topic_list"
   ]
  },
  {
   "cell_type": "code",
   "execution_count": 102,
   "id": "fe322a06",
   "metadata": {},
   "outputs": [
    {
     "name": "stdout",
     "output_type": "stream",
     "text": [
      "[['military', 'council', 'myanmar', 'township', 'village', 'aung', 'state', 'junta', 'according', 'air', 'national', 'battle', 'defense', 'country', 'regime', 'leader', 'killed', 'arrested', 'member', 'government', 'th', 'local', 'support', 'soldier', 'general', 'pdf', 'prison', 'resident', 'force', 'party', 'yangon', 'dvb', 'news', 'ko', 'armed', 'china', 'hlaing', 'old', 'irrawaddy', 'collins', 'karen', 'area', 'city', 'minister', 'car', 'region', 'weapon', 'month', 'troop', 'group', 'civilian', 'burma', 'win', 'house', 'came', 'democratic', 'reported', 'sagaing', 'morning', 'school', 'thailand', 'company', 'resistance', 'world', 'information', 'road', 'official', 'year', 'battalion', 'burmese', 'mandalay', 'injured', 'organization', 'death', 'border', 'political', 'fighting', 'body', 'voice', 'woman', 'election', 'july', 'august', 'kyat', 'announced', 'security', 'thai', 'died', 'foreign', 'commander', 'source', 'tun', 'division', 'unity', 'based', 'rakhine', 'mizzima', 'chief', 'yesterday', 'power', 'statement', 'september', 'family', 'person', 'asean', 'close', 'attacked', 'revolutionary', 'international', 'public', 'democracy', 'district', 'known', 'chinese', 'place', 'bank', 'child', 'association', 'ministry', 'held', 'want', 'union', 'taw', 'myint', 'say', 'kachin', 'kyaw', 'pyi', 'office', 'took', 'nay', 'zaw', 'officer', 'united', 'meeting', 'shwe', 'law', 'man', 'daily', 'bomb', 'oo', 'april', 'killing', 'ethnic', 'central', 'home', 'sentenced', 'situation', 'medium', 'knu', 'right', 'column', 'shooting', 'know', 'released', 'independent', 'million', 'com', 'aa', 'away', 'station', 'non', 'used', 'court', 'sent', 'night', 'maung', 'major', 'called', 'report', 'town', 'able', 'www', 'internet', 'student', 'revolution', 'registered', 'dead', 'economic', 'gun', 'terrorist', 'ward', 'contact', 'led', 'soe', 'price', 'november', 'way', 'work', 'social', 'order', 'addition', 'insein', 'publishes', 'anti', 'money', 'taken', 'currently', 'case', 'profit'], ['advertisement', 'jogja', 'read', 'com', 'selling', 'look', 'harianjogja', 'road', 'best', 'item', 'version', 'ramadan', 'lebaran', 'tokopedia', 'diy', 'sleman', 'bantul', 'area', 'toll', 'victim', 'land', 'wib', 'village', 'resident', 'school', 'solo', 'student', 'head', 'number', 'case', 'explained', 'yogyakarta', 'house', 'government', 'child', 'public', 'according', 'city', 'construction', 'idr', 'perpetrator', 'station', 'sultan', 'carried', 'office', 'saturday', 'sunday', 'yia', 'used', 'gunungkidul', 'regional', 'monday', 'friday', 'location', 'suspect', 'process', 'permit', 'ministry', 'thursday', 'incident', 'kapanewon', 'treasury', 'asked', 'section', 'jalan', 'pt', 'bridge', 'video', 'news', 'result', 'information', 'point', 'java', 'social', 'motorbike', 'work', 'activity', 'regarding', 'service', 'district', 'immediately', 'building', 'tourist', 'haryadi', 'agency', 'afternoon', 'west', 'kulonprogo', 'received', 'price', 'tuesday', 'based', 'account', 'vehicle', 'million', 'known', 'rp', 'hospital', 'indonesia', 'family', 'money', 'billion', 'meter', 'food', 'officer', 'rain', 'problem', 'initial', 'woman', 'official', 'central', 'currently', 'data', 'beach', 'party', 'condition', 'malioboro', 'fault', 'know', 'occurred', 'morning', 'right', 'traffic', 'krl', 'housing', 'report', 'university', 'kpk', 'suspected', 'mayor', 'increase', 'action', 'body', 'viral', 'tourism', 'north', 'project', 'indonesian', 'came', 'center', 'klitih', 'article', 'hotel', 'local', 'health', 'affected', 'parent', 'arrested', 'team', 'sri', 'corruption', 'development', 'place', 'ori', 'sub', 'program', 'check', 'street', 'water', 'medium', 'want', 'region', 'potential', 'related', 'need', 'took', 'netizens', 'general', 'built', 'addition', 'depok', 'hamlet', 'jakarta', 'market', 'open', 'investigation', 'bmkg', 'south', 'home', 'night', 'community', 'governor', 'kilometer', 'form', 'reported', 'cheap', 'end', 'named', 'uniform', 'dandy', 'regency', 'far', 'allegedly', 'east', 'unit', 'earthquake', 'reason', 'state', 'suyuti', 'alleged']]\n"
     ]
    }
   ],
   "source": [
    "topics = get_topics_meanings(topic_word_matrix, vocab, display_weights=False, topn=200)\n",
    "print(topics)"
   ]
  },
  {
   "cell_type": "code",
   "execution_count": 103,
   "id": "8f9b0edf",
   "metadata": {},
   "outputs": [
    {
     "name": "stderr",
     "output_type": "stream",
     "text": [
      "/var/folders/nm/0kqqdhdj795byzw17d7bdmmw0000gn/T/ipykernel_48311/655838812.py:2: FutureWarning: The frame.append method is deprecated and will be removed from pandas in a future version. Use pandas.concat instead.\n",
      "  df2 = df2.append(pd.DataFrame([topics],\n"
     ]
    }
   ],
   "source": [
    "df2 = pd.DataFrame()\n",
    "df2 = df2.append(pd.DataFrame([topics], \n",
    "     columns=[\"TOPIC_1\",\"TOPIC_2\"]), \n",
    "     ignore_index=False)"
   ]
  },
  {
   "cell_type": "code",
   "execution_count": 104,
   "id": "3c6c1644",
   "metadata": {},
   "outputs": [
    {
     "data": {
      "text/html": [
       "<div>\n",
       "<style scoped>\n",
       "    .dataframe tbody tr th:only-of-type {\n",
       "        vertical-align: middle;\n",
       "    }\n",
       "\n",
       "    .dataframe tbody tr th {\n",
       "        vertical-align: top;\n",
       "    }\n",
       "\n",
       "    .dataframe thead th {\n",
       "        text-align: right;\n",
       "    }\n",
       "</style>\n",
       "<table border=\"1\" class=\"dataframe\">\n",
       "  <thead>\n",
       "    <tr style=\"text-align: right;\">\n",
       "      <th></th>\n",
       "      <th>TOPIC_1</th>\n",
       "      <th>TOPIC_2</th>\n",
       "    </tr>\n",
       "  </thead>\n",
       "  <tbody>\n",
       "    <tr>\n",
       "      <th>0</th>\n",
       "      <td>[military, council, myanmar, township, village...</td>\n",
       "      <td>[advertisement, jogja, read, com, selling, loo...</td>\n",
       "    </tr>\n",
       "  </tbody>\n",
       "</table>\n",
       "</div>"
      ],
      "text/plain": [
       "                                             TOPIC_1  \\\n",
       "0  [military, council, myanmar, township, village...   \n",
       "\n",
       "                                             TOPIC_2  \n",
       "0  [advertisement, jogja, read, com, selling, loo...  "
      ]
     },
     "execution_count": 104,
     "metadata": {},
     "output_type": "execute_result"
    }
   ],
   "source": [
    "df2"
   ]
  },
  {
   "cell_type": "code",
   "execution_count": 105,
   "id": "c1406416",
   "metadata": {},
   "outputs": [],
   "source": [
    "df2.to_csv('topic_modeling_two_topiocs.csv')"
   ]
  },
  {
   "cell_type": "code",
   "execution_count": null,
   "id": "00664235",
   "metadata": {},
   "outputs": [],
   "source": []
  }
 ],
 "metadata": {
  "kernelspec": {
   "display_name": "Python 3 (ipykernel)",
   "language": "python",
   "name": "python3"
  },
  "language_info": {
   "codemirror_mode": {
    "name": "ipython",
    "version": 3
   },
   "file_extension": ".py",
   "mimetype": "text/x-python",
   "name": "python",
   "nbconvert_exporter": "python",
   "pygments_lexer": "ipython3",
   "version": "3.10.9"
  }
 },
 "nbformat": 4,
 "nbformat_minor": 5
}
